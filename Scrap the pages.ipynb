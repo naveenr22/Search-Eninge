{
 "cells": [
  {
   "cell_type": "code",
   "execution_count": 1,
   "metadata": {},
   "outputs": [],
   "source": [
    "import requests, os, re\n",
    "import pandas as pd\n",
    "from tqdm import tqdm\n",
    "from bs4 import BeautifulSoup\n",
    "import spacy\n",
    "nlp = spacy.load('en_core_web_sm',disable=['ner','parser'])\n",
    "from collections import defaultdict\n",
    "from gensim.models import Word2Vec\n",
    "nlp.max_length=5000000\n",
    "import re"
   ]
  },
  {
   "cell_type": "code",
   "execution_count": 8,
   "metadata": {},
   "outputs": [],
   "source": [
    "res = requests.get(\"https://www.unt.edu/sitemap.xml\")"
   ]
  },
  {
   "cell_type": "code",
   "execution_count": 9,
   "metadata": {},
   "outputs": [],
   "source": [
    "df = pd.read_xml(res.text)"
   ]
  },
  {
   "cell_type": "code",
   "execution_count": 10,
   "metadata": {},
   "outputs": [
    {
     "data": {
      "text/html": [
       "<div>\n",
       "<style scoped>\n",
       "    .dataframe tbody tr th:only-of-type {\n",
       "        vertical-align: middle;\n",
       "    }\n",
       "\n",
       "    .dataframe tbody tr th {\n",
       "        vertical-align: top;\n",
       "    }\n",
       "\n",
       "    .dataframe thead th {\n",
       "        text-align: right;\n",
       "    }\n",
       "</style>\n",
       "<table border=\"1\" class=\"dataframe\">\n",
       "  <thead>\n",
       "    <tr style=\"text-align: right;\">\n",
       "      <th></th>\n",
       "      <th>loc</th>\n",
       "      <th>changefreq</th>\n",
       "      <th>priority</th>\n",
       "      <th>lastmod</th>\n",
       "    </tr>\n",
       "  </thead>\n",
       "  <tbody>\n",
       "    <tr>\n",
       "      <th>0</th>\n",
       "      <td>https://www.unt.edu/</td>\n",
       "      <td>daily</td>\n",
       "      <td>1.0</td>\n",
       "      <td>None</td>\n",
       "    </tr>\n",
       "    <tr>\n",
       "      <th>1</th>\n",
       "      <td>https://www.unt.edu/university-of-north-texas</td>\n",
       "      <td>yearly</td>\n",
       "      <td>1.0</td>\n",
       "      <td>2022-09-22T14:57Z</td>\n",
       "    </tr>\n",
       "    <tr>\n",
       "      <th>2</th>\n",
       "      <td>https://www.unt.edu/ada</td>\n",
       "      <td>never</td>\n",
       "      <td>NaN</td>\n",
       "      <td>2021-08-10T15:22Z</td>\n",
       "    </tr>\n",
       "    <tr>\n",
       "      <th>3</th>\n",
       "      <td>https://www.unt.edu/still-time-to-register</td>\n",
       "      <td>never</td>\n",
       "      <td>NaN</td>\n",
       "      <td>2019-01-11T21:36Z</td>\n",
       "    </tr>\n",
       "    <tr>\n",
       "      <th>4</th>\n",
       "      <td>https://www.unt.edu/story/good-start-associate...</td>\n",
       "      <td>never</td>\n",
       "      <td>NaN</td>\n",
       "      <td>2019-08-19T20:25Z</td>\n",
       "    </tr>\n",
       "  </tbody>\n",
       "</table>\n",
       "</div>"
      ],
      "text/plain": [
       "                                                 loc changefreq  priority  \\\n",
       "0                               https://www.unt.edu/      daily       1.0   \n",
       "1      https://www.unt.edu/university-of-north-texas     yearly       1.0   \n",
       "2                            https://www.unt.edu/ada      never       NaN   \n",
       "3         https://www.unt.edu/still-time-to-register      never       NaN   \n",
       "4  https://www.unt.edu/story/good-start-associate...      never       NaN   \n",
       "\n",
       "             lastmod  \n",
       "0               None  \n",
       "1  2022-09-22T14:57Z  \n",
       "2  2021-08-10T15:22Z  \n",
       "3  2019-01-11T21:36Z  \n",
       "4  2019-08-19T20:25Z  "
      ]
     },
     "execution_count": 10,
     "metadata": {},
     "output_type": "execute_result"
    }
   ],
   "source": [
    "df.head()"
   ]
  },
  {
   "cell_type": "code",
   "execution_count": 16,
   "metadata": {},
   "outputs": [
    {
     "name": "stderr",
     "output_type": "stream",
     "text": [
      "1429it [46:08,  1.94s/it]\n"
     ]
    }
   ],
   "source": [
    "for i,j in tqdm(df.iterrows()):\n",
    "    res = requests.get(j[0])\n",
    "    try:\n",
    "        if res.status_code == 200:\n",
    "            with open(fr\"C:\\Users\\shaik\\US_Guy\\Information_Retrieval\\HTML_pages\\{i}.html\",'w',encoding='utf-8') as f:\n",
    "                f.write(res.text)\n",
    "        else:\n",
    "            print(\"Error Urls\",j[0])\n",
    "    except:\n",
    "        print(\"Exception Occured\", j[0])"
   ]
  },
  {
   "cell_type": "code",
   "execution_count": 11,
   "metadata": {},
   "outputs": [
    {
     "name": "stderr",
     "output_type": "stream",
     "text": [
      "100%|██████████████████████████████████████████████████████████████████████████████| 1429/1429 [02:33<00:00,  9.33it/s]\n"
     ]
    }
   ],
   "source": [
    "file_data = []\n",
    "for file in tqdm(os.listdir(\"HTML_pages/\")):\n",
    "    with open(f\"HTML_pages/{file}\",'r',encoding='utf-8') as f:\n",
    "        data = f.read()\n",
    "    soup = BeautifulSoup(data)\n",
    "    name = int(file.split('.')[0])\n",
    "    data = {\"file_name\": name,\n",
    "            \"title\":soup.find('title').text,\n",
    "            'text': soup.text.replace('|','').replace('\\t','').replace('\\n\\n', '')\\\n",
    "    .replace('\\n',' ').replace('  ','').encode(\"ascii\", \"ignore\").decode('utf-8').strip(),\n",
    "           'url':df.iloc[name][0]}\n",
    "    file_data.append(data)"
   ]
  },
  {
   "cell_type": "code",
   "execution_count": null,
   "metadata": {},
   "outputs": [],
   "source": []
  },
  {
   "cell_type": "code",
   "execution_count": 12,
   "metadata": {},
   "outputs": [],
   "source": [
    "df1 = pd.DataFrame(file_data)\n",
    "df1 = df1.sort_values(['file_name'])\n",
    "df1.reset_index(drop = True,inplace=True)\n",
    "df1.to_excel(\"unt.xlsx\", index = False)"
   ]
  },
  {
   "cell_type": "code",
   "execution_count": 27,
   "metadata": {},
   "outputs": [],
   "source": [
    "df1 = pd.read_excel(\"unt.xlsx\")"
   ]
  },
  {
   "cell_type": "markdown",
   "metadata": {},
   "source": [
    "#### Second level of scraping urls"
   ]
  },
  {
   "cell_type": "code",
   "execution_count": 2,
   "metadata": {},
   "outputs": [
    {
     "name": "stderr",
     "output_type": "stream",
     "text": [
      "100%|██████████████████████████████████████████████████████████████████████████████| 1429/1429 [03:45<00:00,  6.33it/s]\n"
     ]
    }
   ],
   "source": [
    "file_data = []\n",
    "for file in tqdm(os.listdir(\"HTML_pages/\")):\n",
    "    with open(f\"HTML_pages/{file}\",'r',encoding='utf-8') as f:\n",
    "        data = f.read()\n",
    "    soup = BeautifulSoup(data)\n",
    "    data = [url.get('href') for url in soup.find_all(['a', 'div'], {'href': re.compile(r'https?:')}) if 'www.unt.edu' not in url.get('href')]\n",
    "    file_data.extend(data)"
   ]
  },
  {
   "cell_type": "code",
   "execution_count": 3,
   "metadata": {},
   "outputs": [],
   "source": [
    "file_data  = list(set(file_data))"
   ]
  },
  {
   "cell_type": "code",
   "execution_count": 4,
   "metadata": {},
   "outputs": [],
   "source": [
    "filter_urls = [url for url in file_data if not re.search('teams\\.microsoft|na01|linkedin|nam04|link\\.email\\.dynect|twitter|google|yahoo|facebook|maps|calender|flickr',url)]"
   ]
  },
  {
   "cell_type": "code",
   "execution_count": 5,
   "metadata": {},
   "outputs": [
    {
     "data": {
      "text/plain": [
       "3343"
      ]
     },
     "execution_count": 5,
     "metadata": {},
     "output_type": "execute_result"
    }
   ],
   "source": [
    "len(filter_urls)"
   ]
  },
  {
   "cell_type": "code",
   "execution_count": 26,
   "metadata": {},
   "outputs": [],
   "source": [
    "df = pd.DataFrame({'urls':filter_urls})"
   ]
  },
  {
   "cell_type": "code",
   "execution_count": 27,
   "metadata": {},
   "outputs": [],
   "source": [
    "df['docname'] = \"\""
   ]
  },
  {
   "cell_type": "code",
   "execution_count": 28,
   "metadata": {},
   "outputs": [],
   "source": [
    "# df.loc[0]['docname'] = \"uamr\""
   ]
  },
  {
   "cell_type": "code",
   "execution_count": 29,
   "metadata": {},
   "outputs": [
    {
     "data": {
      "text/html": [
       "<div>\n",
       "<style scoped>\n",
       "    .dataframe tbody tr th:only-of-type {\n",
       "        vertical-align: middle;\n",
       "    }\n",
       "\n",
       "    .dataframe tbody tr th {\n",
       "        vertical-align: top;\n",
       "    }\n",
       "\n",
       "    .dataframe thead th {\n",
       "        text-align: right;\n",
       "    }\n",
       "</style>\n",
       "<table border=\"1\" class=\"dataframe\">\n",
       "  <thead>\n",
       "    <tr style=\"text-align: right;\">\n",
       "      <th></th>\n",
       "      <th>urls</th>\n",
       "      <th>docname</th>\n",
       "    </tr>\n",
       "  </thead>\n",
       "  <tbody>\n",
       "    <tr>\n",
       "      <th>0</th>\n",
       "      <td>https://news.unt.edu/news-releases/unt-defies-...</td>\n",
       "      <td></td>\n",
       "    </tr>\n",
       "    <tr>\n",
       "      <th>1</th>\n",
       "      <td>http://music.unt.edu</td>\n",
       "      <td></td>\n",
       "    </tr>\n",
       "    <tr>\n",
       "      <th>2</th>\n",
       "      <td>http://studentaffairs.unt.edu/access-mentoring...</td>\n",
       "      <td></td>\n",
       "    </tr>\n",
       "    <tr>\n",
       "      <th>3</th>\n",
       "      <td>https://journalism.unt.edu/your-story/scholars...</td>\n",
       "      <td></td>\n",
       "    </tr>\n",
       "    <tr>\n",
       "      <th>4</th>\n",
       "      <td>https://my.unt.edu/psp/papd01/EMPLOYEE/EMPL/h/...</td>\n",
       "      <td></td>\n",
       "    </tr>\n",
       "  </tbody>\n",
       "</table>\n",
       "</div>"
      ],
      "text/plain": [
       "                                                urls docname\n",
       "0  https://news.unt.edu/news-releases/unt-defies-...        \n",
       "1                               http://music.unt.edu        \n",
       "2  http://studentaffairs.unt.edu/access-mentoring...        \n",
       "3  https://journalism.unt.edu/your-story/scholars...        \n",
       "4  https://my.unt.edu/psp/papd01/EMPLOYEE/EMPL/h/...        "
      ]
     },
     "execution_count": 29,
     "metadata": {},
     "output_type": "execute_result"
    }
   ],
   "source": [
    "df.head()"
   ]
  },
  {
   "cell_type": "code",
   "execution_count": 30,
   "metadata": {},
   "outputs": [],
   "source": [
    "df.to_excel(\"firstlevel.xlsx\", index = None)"
   ]
  },
  {
   "cell_type": "code",
   "execution_count": 3,
   "metadata": {},
   "outputs": [],
   "source": [
    "df = pd.read_excel(\"firstlevel.xlsx\")"
   ]
  },
  {
   "cell_type": "code",
   "execution_count": 3,
   "metadata": {},
   "outputs": [
    {
     "data": {
      "text/html": [
       "<div>\n",
       "<style scoped>\n",
       "    .dataframe tbody tr th:only-of-type {\n",
       "        vertical-align: middle;\n",
       "    }\n",
       "\n",
       "    .dataframe tbody tr th {\n",
       "        vertical-align: top;\n",
       "    }\n",
       "\n",
       "    .dataframe thead th {\n",
       "        text-align: right;\n",
       "    }\n",
       "</style>\n",
       "<table border=\"1\" class=\"dataframe\">\n",
       "  <thead>\n",
       "    <tr style=\"text-align: right;\">\n",
       "      <th></th>\n",
       "      <th>urls</th>\n",
       "      <th>docname</th>\n",
       "    </tr>\n",
       "  </thead>\n",
       "  <tbody>\n",
       "    <tr>\n",
       "      <th>2500</th>\n",
       "      <td>https://interactive.wfaa.com/pdfs/PublicFileRe...</td>\n",
       "      <td>NaN</td>\n",
       "    </tr>\n",
       "    <tr>\n",
       "      <th>2501</th>\n",
       "      <td>http://www.star-telegram.com/news/politics-gov...</td>\n",
       "      <td>NaN</td>\n",
       "    </tr>\n",
       "    <tr>\n",
       "      <th>2502</th>\n",
       "      <td>https://www.spektrum.de/news/wie-der-ginkgobau...</td>\n",
       "      <td>NaN</td>\n",
       "    </tr>\n",
       "    <tr>\n",
       "      <th>2503</th>\n",
       "      <td>http://edmastersonline.unt.edu/</td>\n",
       "      <td>NaN</td>\n",
       "    </tr>\n",
       "    <tr>\n",
       "      <th>2504</th>\n",
       "      <td>https://t.e2ma.net/message/gqc9gg/oktw44h</td>\n",
       "      <td>NaN</td>\n",
       "    </tr>\n",
       "    <tr>\n",
       "      <th>...</th>\n",
       "      <td>...</td>\n",
       "      <td>...</td>\n",
       "    </tr>\n",
       "    <tr>\n",
       "      <th>3338</th>\n",
       "      <td>https://www.psychologytoday.com/us/blog/my-lif...</td>\n",
       "      <td>NaN</td>\n",
       "    </tr>\n",
       "    <tr>\n",
       "      <th>3339</th>\n",
       "      <td>http://studentaffairs.unt.edu/student-activiti...</td>\n",
       "      <td>NaN</td>\n",
       "    </tr>\n",
       "    <tr>\n",
       "      <th>3340</th>\n",
       "      <td>http://anthropology.unt.edu/graduate-programs-...</td>\n",
       "      <td>NaN</td>\n",
       "    </tr>\n",
       "    <tr>\n",
       "      <th>3341</th>\n",
       "      <td>https://idea.unt.edu/multicultural-center</td>\n",
       "      <td>NaN</td>\n",
       "    </tr>\n",
       "    <tr>\n",
       "      <th>3342</th>\n",
       "      <td>http://www.cob.unt.edu/people/</td>\n",
       "      <td>NaN</td>\n",
       "    </tr>\n",
       "  </tbody>\n",
       "</table>\n",
       "<p>843 rows × 2 columns</p>\n",
       "</div>"
      ],
      "text/plain": [
       "                                                   urls  docname\n",
       "2500  https://interactive.wfaa.com/pdfs/PublicFileRe...      NaN\n",
       "2501  http://www.star-telegram.com/news/politics-gov...      NaN\n",
       "2502  https://www.spektrum.de/news/wie-der-ginkgobau...      NaN\n",
       "2503                    http://edmastersonline.unt.edu/      NaN\n",
       "2504          https://t.e2ma.net/message/gqc9gg/oktw44h      NaN\n",
       "...                                                 ...      ...\n",
       "3338  https://www.psychologytoday.com/us/blog/my-lif...      NaN\n",
       "3339  http://studentaffairs.unt.edu/student-activiti...      NaN\n",
       "3340  http://anthropology.unt.edu/graduate-programs-...      NaN\n",
       "3341          https://idea.unt.edu/multicultural-center      NaN\n",
       "3342                     http://www.cob.unt.edu/people/      NaN\n",
       "\n",
       "[843 rows x 2 columns]"
      ]
     },
     "execution_count": 3,
     "metadata": {},
     "output_type": "execute_result"
    }
   ],
   "source": [
    "df[2500:]"
   ]
  },
  {
   "cell_type": "code",
   "execution_count": null,
   "metadata": {},
   "outputs": [],
   "source": []
  },
  {
   "cell_type": "code",
   "execution_count": 5,
   "metadata": {
    "scrolled": true
   },
   "outputs": [
    {
     "name": "stderr",
     "output_type": "stream",
     "text": [
      "843it [41:21,  2.94s/it]\n"
     ]
    }
   ],
   "source": [
    "for i,j in tqdm(df[2500:].iterrows()):\n",
    "    try:\n",
    "        res = requests.get(j[0],timeout=5)\n",
    "        if res.status_code == 200:\n",
    "            with open(fr\"C:\\Users\\shaik\\US_Guy\\Information_Retrieval\\TEXT\\{i}.txt\",'w',encoding='utf-8') as f:\n",
    "                f.write(res.text)\n",
    "        else:\n",
    "            pass\n",
    "    except:\n",
    "        pass"
   ]
  },
  {
   "cell_type": "code",
   "execution_count": 14,
   "metadata": {},
   "outputs": [
    {
     "name": "stderr",
     "output_type": "stream",
     "text": [
      "100%|██████████████████████████████████████████████████████████████████████████████| 2798/2798 [10:53<00:00,  4.28it/s]\n"
     ]
    }
   ],
   "source": [
    "file_data = []\n",
    "for file in tqdm(os.listdir(\"TEXT/\")):\n",
    "    with open(f\"TEXT/{file}\",'r',encoding='utf-8') as f:\n",
    "        data = f.read()\n",
    "    soup = BeautifulSoup(data)\n",
    "    name = int(file.split('.')[0])\n",
    "    data = {\"file_name\": name,\n",
    "            \"title\":soup.find('title').text if soup.find('title') else \"None\",\n",
    "            'text': soup.text.replace('|','').replace('\\t','').replace('\\n\\n', '')\\\n",
    "    .replace('\\n',' ').replace('  ','').encode(\"ascii\", \"ignore\").decode('utf-8').strip(),\n",
    "           'url':df.iloc[name][0]}\n",
    "    file_data.append(data)"
   ]
  },
  {
   "cell_type": "code",
   "execution_count": 15,
   "metadata": {},
   "outputs": [],
   "source": [
    "df1 = pd.DataFrame(file_data)"
   ]
  },
  {
   "cell_type": "code",
   "execution_count": 16,
   "metadata": {},
   "outputs": [
    {
     "data": {
      "text/html": [
       "<div>\n",
       "<style scoped>\n",
       "    .dataframe tbody tr th:only-of-type {\n",
       "        vertical-align: middle;\n",
       "    }\n",
       "\n",
       "    .dataframe tbody tr th {\n",
       "        vertical-align: top;\n",
       "    }\n",
       "\n",
       "    .dataframe thead th {\n",
       "        text-align: right;\n",
       "    }\n",
       "</style>\n",
       "<table border=\"1\" class=\"dataframe\">\n",
       "  <thead>\n",
       "    <tr style=\"text-align: right;\">\n",
       "      <th></th>\n",
       "      <th>file_name</th>\n",
       "      <th>title</th>\n",
       "      <th>text</th>\n",
       "      <th>url</th>\n",
       "    </tr>\n",
       "  </thead>\n",
       "  <tbody>\n",
       "    <tr>\n",
       "      <th>0</th>\n",
       "      <td>0</td>\n",
       "      <td>UNT defies national trend, grows by more than ...</td>\n",
       "      <td>UNT defies national trend, grows by more than ...</td>\n",
       "      <td>https://news.unt.edu/news-releases/unt-defies-...</td>\n",
       "    </tr>\n",
       "    <tr>\n",
       "      <th>1</th>\n",
       "      <td>1</td>\n",
       "      <td>UNT College of Music: Home</td>\n",
       "      <td>UNT College of Music: Home Skip to main conten...</td>\n",
       "      <td>http://music.unt.edu</td>\n",
       "    </tr>\n",
       "    <tr>\n",
       "      <th>2</th>\n",
       "      <td>10</td>\n",
       "      <td>Program: Performance, MM - University of North...</td>\n",
       "      <td>Program: Performance, MM - University of North...</td>\n",
       "      <td>http://catalog.unt.edu/preview_program.php?cat...</td>\n",
       "    </tr>\n",
       "    <tr>\n",
       "      <th>3</th>\n",
       "      <td>100</td>\n",
       "      <td>Denton Community Market</td>\n",
       "      <td>Denton Community MarketHome About Us Vendors B...</td>\n",
       "      <td>http://www.dentoncommunitymarket.com/</td>\n",
       "    </tr>\n",
       "    <tr>\n",
       "      <th>4</th>\n",
       "      <td>1001</td>\n",
       "      <td>Bridge</td>\n",
       "      <td>Bridge</td>\n",
       "      <td>https://unt.bridgeapp.com/learner/training/1c0...</td>\n",
       "    </tr>\n",
       "  </tbody>\n",
       "</table>\n",
       "</div>"
      ],
      "text/plain": [
       "   file_name                                              title  \\\n",
       "0          0  UNT defies national trend, grows by more than ...   \n",
       "1          1                         UNT College of Music: Home   \n",
       "2         10  Program: Performance, MM - University of North...   \n",
       "3        100                            Denton Community Market   \n",
       "4       1001                                             Bridge   \n",
       "\n",
       "                                                text  \\\n",
       "0  UNT defies national trend, grows by more than ...   \n",
       "1  UNT College of Music: Home Skip to main conten...   \n",
       "2  Program: Performance, MM - University of North...   \n",
       "3  Denton Community MarketHome About Us Vendors B...   \n",
       "4                                             Bridge   \n",
       "\n",
       "                                                 url  \n",
       "0  https://news.unt.edu/news-releases/unt-defies-...  \n",
       "1                               http://music.unt.edu  \n",
       "2  http://catalog.unt.edu/preview_program.php?cat...  \n",
       "3              http://www.dentoncommunitymarket.com/  \n",
       "4  https://unt.bridgeapp.com/learner/training/1c0...  "
      ]
     },
     "execution_count": 16,
     "metadata": {},
     "output_type": "execute_result"
    }
   ],
   "source": [
    "df1.head()"
   ]
  },
  {
   "cell_type": "code",
   "execution_count": 19,
   "metadata": {},
   "outputs": [],
   "source": [
    "df2 = pd.read_excel(\"unt.xlsx\")"
   ]
  },
  {
   "cell_type": "code",
   "execution_count": 20,
   "metadata": {},
   "outputs": [
    {
     "data": {
      "text/plain": [
       "(2798, 4)"
      ]
     },
     "execution_count": 20,
     "metadata": {},
     "output_type": "execute_result"
    }
   ],
   "source": [
    "df1.shape"
   ]
  },
  {
   "cell_type": "code",
   "execution_count": 21,
   "metadata": {},
   "outputs": [
    {
     "data": {
      "text/plain": [
       "(1429, 4)"
      ]
     },
     "execution_count": 21,
     "metadata": {},
     "output_type": "execute_result"
    }
   ],
   "source": [
    "df2.shape"
   ]
  },
  {
   "cell_type": "code",
   "execution_count": 22,
   "metadata": {},
   "outputs": [],
   "source": [
    "final_df = pd.concat([df1, df2])"
   ]
  },
  {
   "cell_type": "code",
   "execution_count": 23,
   "metadata": {},
   "outputs": [
    {
     "data": {
      "text/plain": [
       "(4227, 4)"
      ]
     },
     "execution_count": 23,
     "metadata": {},
     "output_type": "execute_result"
    }
   ],
   "source": [
    "final_df.shape"
   ]
  },
  {
   "cell_type": "code",
   "execution_count": 25,
   "metadata": {},
   "outputs": [],
   "source": [
    "final_df.reset_index(drop=True, inplace=True)"
   ]
  },
  {
   "cell_type": "code",
   "execution_count": 26,
   "metadata": {},
   "outputs": [],
   "source": [
    "final_df.to_excel(\"final_unt.xlsx\", index=None)"
   ]
  },
  {
   "cell_type": "code",
   "execution_count": null,
   "metadata": {},
   "outputs": [],
   "source": []
  }
 ],
 "metadata": {
  "kernelspec": {
   "display_name": "Python 3",
   "language": "python",
   "name": "python3"
  },
  "language_info": {
   "codemirror_mode": {
    "name": "ipython",
    "version": 3
   },
   "file_extension": ".py",
   "mimetype": "text/x-python",
   "name": "python",
   "nbconvert_exporter": "python",
   "pygments_lexer": "ipython3",
   "version": "3.8.5"
  },
  "vscode": {
   "interpreter": {
    "hash": "9517128b87c530fff0f1fc1d20d666822942bb7ffce5aec71ef2920cf0b3bcca"
   }
  }
 },
 "nbformat": 4,
 "nbformat_minor": 4
}
